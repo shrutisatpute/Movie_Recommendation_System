{
 "cells": [
  {
   "cell_type": "code",
   "execution_count": 41,
   "metadata": {},
   "outputs": [],
   "source": [
    "import pandas as pd\n",
    "import numpy as np\n",
    "from sklearn.feature_extraction.text import CountVectorizer\n",
    "from sklearn.metrics.pairwise import cosine_similarity"
   ]
  },
  {
   "cell_type": "code",
   "execution_count": 42,
   "metadata": {},
   "outputs": [],
   "source": [
    "def get_title_from_index(index):\n",
    "    return df[df.index==index]['title'].values[0]\n",
    "def get_index_from_title(title):\n",
    "    return df[df.title==title]['index'].values[0]\n"
   ]
  },
  {
   "cell_type": "code",
   "execution_count": 43,
   "metadata": {},
   "outputs": [],
   "source": [
    "df = pd.read_csv('C://Users/ANKIT/Desktop/movie_dataset.csv')"
   ]
  },
  {
   "cell_type": "code",
   "execution_count": 44,
   "metadata": {},
   "outputs": [],
   "source": [
    "features = ['keywords', 'cast', 'genres', 'director']\n",
    "for feature in features:\n",
    "    df[feature] = df[feature].fillna('')\n",
    "    "
   ]
  },
  {
   "cell_type": "code",
   "execution_count": 45,
   "metadata": {},
   "outputs": [],
   "source": [
    "def combine_features(row):\n",
    "    try:\n",
    "        return row['keywords']+''+row['cast']+''+row['genres']+''+row['director']\n",
    "    except:\n",
    "        print(\"Error\",row)"
   ]
  },
  {
   "cell_type": "code",
   "execution_count": 46,
   "metadata": {},
   "outputs": [
    {
     "name": "stdout",
     "output_type": "stream",
     "text": [
      "0    culture clash future space war space colony so...\n",
      "1    ocean drug abuse exotic island east india trad...\n",
      "2    spy based on novel secret agent sequel mi6Dani...\n",
      "3    dc comics crime fighter terrorist secret ident...\n",
      "4    based on novel mars medallion space travel pri...\n",
      "Name: combined_features, dtype: object\n"
     ]
    }
   ],
   "source": [
    "df['combined_features'] = df.apply(combine_features, axis=1)\n",
    "print(df['combined_features'].head())"
   ]
  },
  {
   "cell_type": "code",
   "execution_count": 47,
   "metadata": {},
   "outputs": [],
   "source": [
    "cv = CountVectorizer()\n",
    "count_matrix = cv.fit_transform(df['combined_features'])\n",
    "cosine_sim = cosine_similarity(count_matrix)\n",
    "movie_user_likes = 'King Kong'\n"
   ]
  },
  {
   "cell_type": "code",
   "execution_count": 48,
   "metadata": {},
   "outputs": [],
   "source": [
    "movie_index = get_index_from_title(movie_user_likes)\n",
    "similar_movies = list(enumerate(cosine_sim[movie_index]))\n",
    "sorted_similar_movies = sorted(similar_movies, key = lambda x:x[1], reverse = True)\n"
   ]
  },
  {
   "cell_type": "code",
   "execution_count": 49,
   "metadata": {},
   "outputs": [
    {
     "name": "stdout",
     "output_type": "stream",
     "text": [
      "King Kong\n",
      "America's Sweethearts\n",
      "Redbelt\n",
      "All That Jazz\n",
      "Bowfinger\n",
      "The Holiday\n",
      "What Just Happened\n",
      "Jesus' Son\n",
      "Tropic Thunder\n",
      "The Artist\n",
      "Blue Car\n",
      "Poolhall Junkies\n",
      "Walking and Talking\n",
      "Man on the Moon\n",
      "San Andreas\n",
      "Urban Legends: Final Cut\n",
      "The Brothers\n",
      "Mystic Pizza\n",
      "Shine a Light\n",
      "Jimmy and Judy\n",
      "The Ten\n",
      "Bloody Sunday\n",
      "Ed Wood\n",
      "Love Jones\n",
      "The Ultimate Gift\n",
      "Eve's Bayou\n",
      "The Rules of Attraction\n",
      "The Dead Girl\n",
      "The Missing Person\n",
      "Good Dick\n",
      "Hugo\n",
      "The Life Aquatic with Steve Zissou\n",
      "Big Fat Liar\n",
      "The Lucky Ones\n",
      "The Perez Family\n",
      "Freeway\n",
      "Sound of My Voice\n",
      "Mutual Appreciation\n",
      "Punch-Drunk Love\n",
      "The Matador\n",
      "Captive\n",
      "The Brothers McMullen\n",
      "Dragon Blade\n",
      "8 Days\n",
      "Travellers and Magicians\n",
      "Alone With Her\n",
      "The Incredibly True Adventure of Two Girls In Love\n",
      "The Joneses\n",
      "Morvern Callar\n",
      "Thirteen Conversations About One Thing\n",
      "Saint John of Las Vegas\n"
     ]
    }
   ],
   "source": [
    "i = 0\n",
    "for movie in sorted_similar_movies:\n",
    "    print(get_title_from_index(movie[0]))\n",
    "    i+=1\n",
    "    if i>50:\n",
    "        break"
   ]
  },
  {
   "cell_type": "code",
   "execution_count": null,
   "metadata": {},
   "outputs": [],
   "source": []
  }
 ],
 "metadata": {
  "kernelspec": {
   "display_name": "Python 3",
   "language": "python",
   "name": "python3"
  },
  "language_info": {
   "codemirror_mode": {
    "name": "ipython",
    "version": 3
   },
   "file_extension": ".py",
   "mimetype": "text/x-python",
   "name": "python",
   "nbconvert_exporter": "python",
   "pygments_lexer": "ipython3",
   "version": "3.7.3"
  }
 },
 "nbformat": 4,
 "nbformat_minor": 2
}
